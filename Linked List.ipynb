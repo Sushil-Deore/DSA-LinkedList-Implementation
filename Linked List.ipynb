{
 "cells": [
  {
   "cell_type": "code",
   "execution_count": 1,
   "id": "b3047d3a",
   "metadata": {},
   "outputs": [],
   "source": [
    "class Node:\n",
    "    '''\n",
    "    A node in a singly linked list.\n",
    "\n",
    "    Attributes:\n",
    "        data (any): The data stored in the node.\n",
    "        next (Node): A reference to the next node in the list.\n",
    "    '''\n",
    "    \n",
    "    def __init__(self, data= None):\n",
    "        self.data = data\n",
    "        self.next = None\n",
    "        \n",
    "        \n",
    "class linked_list:\n",
    "    '''\n",
    "    A singly linked list.\n",
    "\n",
    "    Attributes:\n",
    "        head (Node): A reference to the first node in the list.\n",
    "    '''\n",
    "    \n",
    "    def __init__(self):\n",
    "        '''\n",
    "        Initializes an empty singly linked list.\n",
    "        '''\n",
    "        self.head = None\n",
    "        \n",
    "    def add_node(self, data):\n",
    "        '''\n",
    "        Adds a new node with the given data to the end of the list.\n",
    "\n",
    "        Args:\n",
    "            data (any): The data to be stored in the new node.\n",
    "        '''\n",
    "        new_node = Node(data)    # Create a new node with the given data\n",
    "        \n",
    "        if self.head is None:    # If the list is empty, set the new node as the head and return\n",
    "            self.head = new_node\n",
    "            return \n",
    "        \n",
    "        curr_node = self.head    # Start at the head of the list\n",
    "        while curr_node.next is not None:    # Traverse the list to find the last node\n",
    "            curr_node = curr_node.next\n",
    "        curr_node.next = new_node    # Add the new node to the end of the list\n",
    "        \n",
    "    def remove_node(self, data):\n",
    "        '''\n",
    "        Removes the first node with the given data from the list.\n",
    "\n",
    "        Args:\n",
    "            data (any): The data to be removed from the list.\n",
    "        '''\n",
    "        curr_node = self.head    # Start at the head of the list\n",
    "        prev_node = None\n",
    "        while curr_node is not None:\n",
    "            if curr_node.data == data:    # If the current node contains the data to be removed\n",
    "                if prev_node is None:    # If the current node is the head of the list\n",
    "                    self.head = curr_node.next    # Set the next node as the new head\n",
    "                else:\n",
    "                    prev_node.next = curr_node.next    # Link the previous node to the next node, skipping the current node\n",
    "                return\n",
    "            prev_node = curr_node\n",
    "            curr_node = curr_node.next\n",
    "            \n",
    "    def print_list(self):\n",
    "        '''\n",
    "        Prints the data stored in each node of the list.\n",
    "\n",
    "        Example output: \"1 -> 2 -> 3 -> None\"\n",
    "        '''\n",
    "        curr_node = self.head    # Start at the head of the list\n",
    "        while curr_node is not None:\n",
    "            print(curr_node.data, end= \" -> \")    # Print the data in the current node\n",
    "            curr_node = curr_node.next    # Move to the next node\n",
    "        print(\"None\")    # Print \"None\" to indicate the end of the list\n"
   ]
  },
  {
   "cell_type": "code",
   "execution_count": 2,
   "id": "11e764ba",
   "metadata": {},
   "outputs": [
    {
     "data": {
      "text/plain": [
       "<__main__.linked_list at 0x28270a70240>"
      ]
     },
     "execution_count": 2,
     "metadata": {},
     "output_type": "execute_result"
    }
   ],
   "source": [
    "my_list = linked_list()\n",
    "my_list"
   ]
  },
  {
   "cell_type": "code",
   "execution_count": 3,
   "id": "9bbc4b7c",
   "metadata": {},
   "outputs": [],
   "source": [
    "my_list.add_node(3)\n",
    "my_list.add_node(7)\n",
    "my_list.add_node(2)\n",
    "my_list.add_node(1)\n",
    "my_list.add_node(13)\n",
    "my_list.add_node(17)"
   ]
  },
  {
   "cell_type": "code",
   "execution_count": 4,
   "id": "b1631895",
   "metadata": {},
   "outputs": [
    {
     "name": "stdout",
     "output_type": "stream",
     "text": [
      "3 -> 7 -> 2 -> 1 -> 13 -> 17 -> None\n"
     ]
    }
   ],
   "source": [
    "my_list.print_list()"
   ]
  },
  {
   "cell_type": "code",
   "execution_count": 5,
   "id": "e0fda7cb",
   "metadata": {},
   "outputs": [],
   "source": [
    "my_list.remove_node(1)"
   ]
  },
  {
   "cell_type": "code",
   "execution_count": 6,
   "id": "1e118b43",
   "metadata": {},
   "outputs": [
    {
     "name": "stdout",
     "output_type": "stream",
     "text": [
      "3 -> 7 -> 2 -> 13 -> 17 -> None\n"
     ]
    }
   ],
   "source": [
    "my_list.print_list()"
   ]
  },
  {
   "cell_type": "code",
   "execution_count": 20,
   "id": "5bc48cf0",
   "metadata": {},
   "outputs": [],
   "source": [
    "class ListNode:\n",
    "    '''\n",
    "    A node in the doubly linked list.\n",
    "    '''\n",
    "    def __init__(self, val):\n",
    "        '''\n",
    "        Initializes a new instance of the ListNode class.\n",
    "        '''\n",
    "        self.val = val # the value of the node\n",
    "        self.prev = None # pointer to the previous node\n",
    "        self.next = None # pointer to the next node\n",
    "\n",
    "\n",
    "class MyLinkedList:\n",
    "    '''\n",
    "    Implementation of a doubly linked list.\n",
    "    '''\n",
    "\n",
    "    def __init__(self):\n",
    "        '''\n",
    "        Initializes a new instance of the MyLinkedList class.\n",
    "        '''\n",
    "        self.left = ListNode(0) # dummy node for the left end\n",
    "        self.right = ListNode(0) # dummy node for the right end\n",
    "        self.left.next = self.right # left points to the right\n",
    "        self.right.prev = self.left # right points to the left\n",
    "\n",
    "    def get(self, index: int) -> int:\n",
    "        '''\n",
    "        Gets the value of the node at the given index.\n",
    "        '''\n",
    "        cur = self.left.next # start from the left end\n",
    "        while cur and index > 0:\n",
    "            cur = cur.next\n",
    "            index -= 1\n",
    "        \n",
    "        if cur and cur != self.right and index == 0:\n",
    "            return cur.val # return the value of the node at the given index\n",
    "        return -1\n",
    "\n",
    "    def addAtHead(self, val: int) -> None:\n",
    "        '''\n",
    "        Adds a new node with the given value at the head of the list.\n",
    "        '''\n",
    "        node, prev, next = ListNode(val), self.left, self.left.next # create a new node, and get the previous and next nodes\n",
    "        node.next, node.prev = next, prev # link the new node to the previous and next nodes\n",
    "        next.prev = node # update the previous node's next pointer\n",
    "        prev.next = node # update the next node's previous pointer\n",
    "\n",
    "    def addAtTail(self, val: int) -> None:\n",
    "        '''\n",
    "        Adds a new node with the given value at the tail of the list.\n",
    "        '''\n",
    "        node, prev, next = ListNode(val), self.right.prev, self.right # create a new node, and get the previous and next nodes\n",
    "        node.next, node.prev = next, prev # link the new node to the previous and next nodes\n",
    "        next.prev = node # update the previous node's next pointer\n",
    "        prev.next = node # update the next node's previous pointer\n",
    "\n",
    "    def addAtIndex(self, index: int, val: int) -> None:\n",
    "        '''\n",
    "        Adds a new node with the given value at the given index in the list.\n",
    "        '''\n",
    "        next = self.left.next # get the node at the given index\n",
    "        while next and index > 0:\n",
    "            next = next.next\n",
    "            index -= 1\n",
    "        \n",
    "        if next and index == 0:\n",
    "            node, prev = ListNode(val), next.prev # create a new node, and get the previous node\n",
    "            node.next, node.prev = next, prev # link the new node to the previous and next nodes\n",
    "            next.prev = node # update the previous node's next pointer\n",
    "            prev.next = node # update the next node's previous pointer\n",
    "\n",
    "\n",
    "    def deleteAtIndex(self, index: int) -> None:\n",
    "        '''\n",
    "        Deletes the node at the given index from the list.\n",
    "        '''\n",
    "        node = self.left.next # get the node at the given index\n",
    "        while node and index > 0:\n",
    "            node = node.next\n",
    "            index -= 1\n",
    "        \n",
    "        if node and node != self.right and index == 0:\n",
    "            node.prev.next = node.next # update the previous node's next pointer\n",
    "            node.next.prev = node.prev # update the next node's previous pointer to skip over the deleted node\n",
    "            node.next = None # clear the deleted node's next pointer\n",
    "            node.prev = None # clear the deleted node's previous pointer\n",
    "\n",
    "\n",
    "    def print_list(self):\n",
    "        current_node = self.left\n",
    "        while current_node:\n",
    "            prev_node = current_node.prev.val if current_node.prev else None\n",
    "            next_node = current_node.next.val if current_node.next else None\n",
    "            print(f\"Prev: {prev_node} | Val: {current_node.val} | Next: {next_node}\")\n",
    "            current_node = current_node.next"
   ]
  },
  {
   "cell_type": "code",
   "execution_count": 21,
   "id": "2f34ce82",
   "metadata": {},
   "outputs": [
    {
     "data": {
      "text/plain": [
       "<__main__.MyLinkedList at 0x28270aad0b8>"
      ]
     },
     "execution_count": 21,
     "metadata": {},
     "output_type": "execute_result"
    }
   ],
   "source": [
    "my_list_1 = MyLinkedList()\n",
    "my_list_1"
   ]
  },
  {
   "cell_type": "code",
   "execution_count": 22,
   "id": "a11d590f",
   "metadata": {},
   "outputs": [],
   "source": [
    "my_list_1.addAtHead(3)\n",
    "my_list_1.addAtTail(7)\n",
    "my_list_1.addAtHead(2)\n",
    "my_list_1.addAtTail(1)\n",
    "my_list_1.addAtHead(13)\n",
    "my_list_1.addAtTail(17)"
   ]
  },
  {
   "cell_type": "code",
   "execution_count": 23,
   "id": "1c0cc586",
   "metadata": {},
   "outputs": [
    {
     "name": "stdout",
     "output_type": "stream",
     "text": [
      "Prev: None | Val: 0 | Next: 13\n",
      "Prev: 0 | Val: 13 | Next: 2\n",
      "Prev: 13 | Val: 2 | Next: 3\n",
      "Prev: 2 | Val: 3 | Next: 7\n",
      "Prev: 3 | Val: 7 | Next: 1\n",
      "Prev: 7 | Val: 1 | Next: 17\n",
      "Prev: 1 | Val: 17 | Next: 0\n",
      "Prev: 17 | Val: 0 | Next: None\n"
     ]
    }
   ],
   "source": [
    "my_list_1.print_list()"
   ]
  }
 ],
 "metadata": {
  "kernelspec": {
   "display_name": "Python 3 (ipykernel)",
   "language": "python",
   "name": "python3"
  },
  "language_info": {
   "codemirror_mode": {
    "name": "ipython",
    "version": 3
   },
   "file_extension": ".py",
   "mimetype": "text/x-python",
   "name": "python",
   "nbconvert_exporter": "python",
   "pygments_lexer": "ipython3",
   "version": "3.7.3"
  }
 },
 "nbformat": 4,
 "nbformat_minor": 5
}

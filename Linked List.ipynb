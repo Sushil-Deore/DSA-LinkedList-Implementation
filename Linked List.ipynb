{
 "cells": [
  {
   "cell_type": "markdown",
   "id": "3073f330",
   "metadata": {},
   "source": [
    "# Demo of Implementation of LinkedList \n",
    "\n",
    "-  __SinglyLinkedList__ Operations include\n",
    "\n",
    "\n",
    "\n",
    "    - get: retreive the data at given index\n",
    "    - insertAt: insert a node at given index, the previous node at the index will be put behind of the new node\n",
    "    - append: insert a node at the beginning of the linked list\n",
    "    - prepend: insert a node at the end of the linked list\n",
    "    - find: search for the data on the linked list\n",
    "    - removeHead: remove the node at the beginning of the linked list\n",
    "    - removeTail: remove the node at the end of the linked list\n",
    "    - removeAt: remove the node at given index\n",
    "    \n",
    "    \n",
    " - __DoublyLinkedList__ Operations include\n",
    " \n",
    " \n",
    " \n",
    "    - get: Gets the value of the node at the given index.\n",
    "    - addAtHead: Adds a new node with the given value at the head of the list\n",
    "    - addAtTail: Adds a new node with the given value at the tail of the list\n",
    "    - addAtIndex: Adds a new node with the given value at the given index in the list\n",
    "    - deleteAtIndex: Deletes the node at the given index from the list"
   ]
  },
  {
   "cell_type": "code",
   "execution_count": 26,
   "id": "b3047d3a",
   "metadata": {},
   "outputs": [],
   "source": [
    "class SinglyListNode():\n",
    "    '''The class of Node in a SinglyLinkedList '''\n",
    "    def __init__(self, v):\n",
    "        '''Initiator\n",
    "        key argument\n",
    "        v(int) -- the data carried by the node\n",
    "        the next node, by default, is None\n",
    "        '''\n",
    "        self.data = v # the value of the node\n",
    "        self.next = None # pointer to the next node\n",
    "    \n",
    "    def __repr__(self):\n",
    "        '''Returns a string representation of the node'''\n",
    "        return '[{}, next: {}]'.format(self.data, self.next)\n",
    "    \n",
    "class SinglyLinkedList:\n",
    "    '''The class of SinglyLinkedList'''\n",
    "    def __init__(self):\n",
    "        '''The initiator eatablish an empty linked list\n",
    "        head, tail are none, and size is 0\n",
    "        '''\n",
    "        self.head = None # dummy node for the head\n",
    "        self.tail = None # dummy node for the Tail\n",
    "        self.size = 0 # dummy node for the size\n",
    "    \n",
    "    def get(self, index):\n",
    "        '''retreive the data at given index\n",
    "        key argument\n",
    "        index(int) -- must be an non negative int less than the size of linkedlist\n",
    "        return\n",
    "        data (int) -- the data carried by the node of the index\n",
    "        '''\n",
    "        if isinstance(index, int) and index >=0 and index < self.size: # Checking for conditions given\n",
    "            cur = self.head \n",
    "            for i in range(index):\n",
    "                cur = cur.next\n",
    "            return cur.data\n",
    "        else:\n",
    "            raise Exception ('Invalid index')\n",
    "\n",
    "    def __repr__(self):\n",
    "        '''The representation of the linkedlist as a list'''\n",
    "        if self.size == 0:  # if the linkedlist is empty\n",
    "            return '[]'\n",
    "        result = '['\n",
    "        cur = self.head  # start from the head of the linkedlist\n",
    "        for i in range(self.size):  # iterate over the linkedlist\n",
    "            result += str(cur.data) + ', '  # add the data of the current node to the result string\n",
    "            cur = cur.next  # move to the next node\n",
    "        return result[:-2] + ']'  # remove the last comma and space, and add the closing bracket\n",
    "\n",
    "    def insertAt(self, index, element):\n",
    "        '''insert a node at given index, the previous node at the index will be put behind of the new node.\n",
    "        key argument\n",
    "        index(int) -- must be an non negative int and no larger than the size of linkedlist\n",
    "        element(int) -- the data carried by the new node inserted at the index\n",
    "        '''\n",
    "        if isinstance(index, int) and index >=0 and index <= self.size:  # Checking for conditions given\n",
    "            if index == 0:  # if inserting at the beginning\n",
    "                self.prepend(element)\n",
    "            elif index == self.size:  # if inserting at the end\n",
    "                self.append(element)\n",
    "            else:  # if inserting in the middle\n",
    "                cur = self.head\n",
    "                for i in range(index-1):  # iterate over the linkedlist to find the node at the previous index\n",
    "                    cur = cur.next\n",
    "                new_node = SinglyListNode(element)  # create a new node with the given element\n",
    "                new_node.next = cur.next  # set the next pointer of the new node to the next node of the current node\n",
    "                cur.next = new_node  # set the next pointer of the current node to the new node\n",
    "                self.size += 1  # increment the size of the linkedlist\n",
    "        else:\n",
    "            raise Exception('Invalid index')  # if the index is not valid, raise an exception\n",
    "\n",
    "    def append(self, element):\n",
    "        '''insert a node at the beginning of the linked list\n",
    "        key argument\n",
    "        element(int) -- the data carried by the new node\n",
    "        '''\n",
    "        if self.size == 0:  # if the linkedlist is empty\n",
    "            new_node = SinglyListNode(element)  # create a new node with the given element\n",
    "            self.head = new_node  # set the head and tail pointers to the new node\n",
    "            self.tail = new_node\n",
    "        else:  # if the linkedlist is not empty\n",
    "            new_node = SinglyListNode(element)  # create a new node with the given element\n",
    "            self.tail.next = new_node  # set the next pointer of the tail node to the new node\n",
    "            self.tail = new_node  # set the tail pointer to the new node\n",
    "        self.size +=1  # increment the size of the linkedlist\n",
    "\n",
    "    def prepend(self, element):\n",
    "        '''insert a node at the end of the linked list\n",
    "        key argument\n",
    "        element(int) -- the data carried by the new node\n",
    "        '''\n",
    "        if self.size == 0:  # if the linkedlist is empty\n",
    "            new_node = SinglyListNode(element)  # create a new node with the given element\n",
    "            self.head = new_node  # set the head and tail pointers to the new node\n",
    "            self.tail = new_node\n",
    "        else:  # if the linkedlist is not empty\n",
    "            new_node = SinglyListNode(element)  # create a new node with the given element\n",
    "       \n",
    "\n",
    "    def find(self, element):\n",
    "        '''search for the data on the linked list\n",
    "        key argument\n",
    "        element(int) -- the data carried by the new node\n",
    "        '''\n",
    "        cur = self.head\n",
    "        while cur.next != None:  # traverse until the last node\n",
    "            if cur.data == element:\n",
    "                return i  # return the index if the element is found\n",
    "            cur = cur.next\n",
    "        return -1  # return -1 if the element is not found\n",
    "\n",
    "    def removeHead(self):\n",
    "        '''remove the node at the beginning of the linked list\n",
    "        if the linkedlist has size of 0, raise exception'''\n",
    "        if self.size == 0:\n",
    "            raise Exception('Empty list')\n",
    "        if self.size == 1:\n",
    "            self.head = self.tail = None\n",
    "        else:\n",
    "            self.head = self.head.next\n",
    "        self.size -= 1\n",
    "\n",
    "    def removeTail(self):\n",
    "        '''remove the node at the end of the linked list\n",
    "        if the linkedlist has size of 0, raise exception'''\n",
    "        if self.size == 0:\n",
    "            raise Exception('Empty list')\n",
    "        if self.size == 1:\n",
    "            self.head = self.tail = None\n",
    "        else:\n",
    "            cur = self.head\n",
    "            while cur.next.next != None:  # traverse until the second last node\n",
    "                cur = cur.next\n",
    "            self.tail = cur\n",
    "            self.tail.next = None\n",
    "        self.size -=1\n",
    "\n",
    "    def removeAt(self, index):\n",
    "        '''remove the node at given index\n",
    "        if the linkedlist has size of 0, raise exception\n",
    "\n",
    "        key argument\n",
    "        index(int) -- must be an non negative int and less than the size of linkedlist\n",
    "        '''\n",
    "        if self.size == 0:\n",
    "            raise Exception('Empty list')\n",
    "        if isinstance(index, int) and index >= 0 and index < self.size:\n",
    "            if index == 0:\n",
    "                self.removeHead()\n",
    "            elif index == self.size - 1:\n",
    "                self.removeTail()\n",
    "            else:\n",
    "                cur = self.head\n",
    "                for i in range(index-1):  # traverse until the node before the index\n",
    "                    cur = cur.next\n",
    "                cur.next = cur.next.next  # remove the node at the index\n",
    "                self.size -=1\n",
    "        else:\n",
    "            raise Exception('Invalid index')\n",
    "\n",
    "    def report(self):\n",
    "        '''A summary of the status of the linkedlist'''\n",
    "        print('List:',self)  # prints the representation of the linkedlist\n",
    "        print('Head', self.head)  # prints the head node\n",
    "        print('Tail', self.tail)  # prints the tail node\n",
    "        print('Size', self.size)  # prints the size of the linkedlist\n"
   ]
  },
  {
   "cell_type": "code",
   "execution_count": 27,
   "id": "9bbc4b7c",
   "metadata": {},
   "outputs": [
    {
     "name": "stdout",
     "output_type": "stream",
     "text": [
      "List: []\n",
      "Head None\n",
      "Tail None\n",
      "Size 0\n"
     ]
    }
   ],
   "source": [
    "sll = SinglyLinkedList()\n",
    "sll.report()"
   ]
  },
  {
   "cell_type": "code",
   "execution_count": 28,
   "id": "b1631895",
   "metadata": {},
   "outputs": [
    {
     "name": "stdout",
     "output_type": "stream",
     "text": [
      "List: [0, 1, 2]\n",
      "Head [0, next: [1, next: [2, next: None]]]\n",
      "Tail [2, next: None]\n",
      "Size 3\n"
     ]
    }
   ],
   "source": [
    "for i in range(3):\n",
    "    sll.append(i)\n",
    "sll.report()"
   ]
  },
  {
   "cell_type": "code",
   "execution_count": 29,
   "id": "e0fda7cb",
   "metadata": {},
   "outputs": [
    {
     "name": "stdout",
     "output_type": "stream",
     "text": [
      "List: [0, 1, 2]\n",
      "Head [0, next: [1, next: [2, next: None]]]\n",
      "Tail [2, next: None]\n",
      "Size 3\n"
     ]
    }
   ],
   "source": [
    "for i in range(3):\n",
    "    sll.prepend(i)\n",
    "sll.report()"
   ]
  },
  {
   "cell_type": "code",
   "execution_count": 30,
   "id": "1e118b43",
   "metadata": {},
   "outputs": [
    {
     "name": "stdout",
     "output_type": "stream",
     "text": [
      "List: [0, 1, 4, 1, 2]\n",
      "Head [0, next: [1, next: [4, next: [1, next: [2, next: None]]]]]\n",
      "Tail [2, next: None]\n",
      "Size 5\n"
     ]
    }
   ],
   "source": [
    "for i in range(3):\n",
    "    sll.insertAt(i, i**2)\n",
    "sll.report()"
   ]
  },
  {
   "cell_type": "code",
   "execution_count": 31,
   "id": "4d7a4dca",
   "metadata": {},
   "outputs": [
    {
     "data": {
      "text/plain": [
       "2"
      ]
     },
     "execution_count": 31,
     "metadata": {},
     "output_type": "execute_result"
    }
   ],
   "source": [
    "sll.get(4)"
   ]
  },
  {
   "cell_type": "code",
   "execution_count": 32,
   "id": "ea65c576",
   "metadata": {},
   "outputs": [
    {
     "data": {
      "text/plain": [
       "2"
      ]
     },
     "execution_count": 32,
     "metadata": {},
     "output_type": "execute_result"
    }
   ],
   "source": [
    "sll.find(4)"
   ]
  },
  {
   "cell_type": "code",
   "execution_count": 33,
   "id": "0618b3c9",
   "metadata": {},
   "outputs": [
    {
     "name": "stdout",
     "output_type": "stream",
     "text": [
      "List: [1, 4, 1, 2]\n",
      "Head [1, next: [4, next: [1, next: [2, next: None]]]]\n",
      "Tail [2, next: None]\n",
      "Size 4\n"
     ]
    }
   ],
   "source": [
    "sll.removeHead()\n",
    "sll.report()"
   ]
  },
  {
   "cell_type": "code",
   "execution_count": 34,
   "id": "1a408c83",
   "metadata": {},
   "outputs": [
    {
     "name": "stdout",
     "output_type": "stream",
     "text": [
      "List: [1, 4, 1]\n",
      "Head [1, next: [4, next: [1, next: None]]]\n",
      "Tail [1, next: None]\n",
      "Size 3\n"
     ]
    }
   ],
   "source": [
    "sll.removeTail()\n",
    "sll.report()"
   ]
  },
  {
   "cell_type": "code",
   "execution_count": 35,
   "id": "4ce2eeb3",
   "metadata": {},
   "outputs": [
    {
     "name": "stdout",
     "output_type": "stream",
     "text": [
      "List: [4, 1]\n",
      "Head [4, next: [1, next: None]]\n",
      "Tail [1, next: None]\n",
      "Size 2\n"
     ]
    }
   ],
   "source": [
    "sll.removeAt(0)\n",
    "sll.report()"
   ]
  },
  {
   "cell_type": "code",
   "execution_count": 36,
   "id": "5bc48cf0",
   "metadata": {},
   "outputs": [],
   "source": [
    "class ListNode:\n",
    "    '''\n",
    "    A node in the doubly linked list.\n",
    "    '''\n",
    "    def __init__(self, val):\n",
    "        '''\n",
    "        Initializes a new instance of the ListNode class.\n",
    "        '''\n",
    "        self.val = val # the value of the node\n",
    "        self.prev = None # pointer to the previous node\n",
    "        self.next = None # pointer to the next node\n",
    "\n",
    "\n",
    "class DoublyLinkedList:\n",
    "    '''\n",
    "    Implementation of a doubly linked list.\n",
    "    '''\n",
    "\n",
    "    def __init__(self):\n",
    "        '''\n",
    "        Initializes a new instance of the MyLinkedList class.\n",
    "        '''\n",
    "        self.left = ListNode(0) # dummy node for the left end\n",
    "        self.right = ListNode(0) # dummy node for the right end\n",
    "        self.left.next = self.right # left points to the right\n",
    "        self.right.prev = self.left # right points to the left\n",
    "\n",
    "    def get(self, index: int) -> int:\n",
    "        '''\n",
    "        Gets the value of the node at the given index.\n",
    "        '''\n",
    "        cur = self.left.next # start from the left end\n",
    "        while cur and index > 0:\n",
    "            cur = cur.next\n",
    "            index -= 1\n",
    "        \n",
    "        if cur and cur != self.right and index == 0:\n",
    "            return cur.val # return the value of the node at the given index\n",
    "        return -1\n",
    "\n",
    "    def addAtHead(self, val: int) -> None:\n",
    "        '''\n",
    "        Adds a new node with the given value at the head of the list.\n",
    "        '''\n",
    "        node, prev, next = ListNode(val), self.left, self.left.next # create a new node, and get the previous and next nodes\n",
    "        node.next, node.prev = next, prev # link the new node to the previous and next nodes\n",
    "        next.prev = node # update the previous node's next pointer\n",
    "        prev.next = node # update the next node's previous pointer\n",
    "\n",
    "    def addAtTail(self, val: int) -> None:\n",
    "        '''\n",
    "        Adds a new node with the given value at the tail of the list.\n",
    "        '''\n",
    "        node, prev, next = ListNode(val), self.right.prev, self.right # create a new node, and get the previous and next nodes\n",
    "        node.next, node.prev = next, prev # link the new node to the previous and next nodes\n",
    "        next.prev = node # update the previous node's next pointer\n",
    "        prev.next = node # update the next node's previous pointer\n",
    "\n",
    "    def addAtIndex(self, index: int, val: int) -> None:\n",
    "        '''\n",
    "        Adds a new node with the given value at the given index in the list.\n",
    "        '''\n",
    "        next = self.left.next # get the node at the given index\n",
    "        while next and index > 0:\n",
    "            next = next.next\n",
    "            index -= 1\n",
    "        \n",
    "        if next and index == 0:\n",
    "            node, prev = ListNode(val), next.prev # create a new node, and get the previous node\n",
    "            node.next, node.prev = next, prev # link the new node to the previous and next nodes\n",
    "            next.prev = node # update the previous node's next pointer\n",
    "            prev.next = node # update the next node's previous pointer\n",
    "\n",
    "\n",
    "    def deleteAtIndex(self, index: int) -> None:\n",
    "        '''\n",
    "        Deletes the node at the given index from the list.\n",
    "        '''\n",
    "        node = self.left.next # get the node at the given index\n",
    "        while node and index > 0:\n",
    "            node = node.next\n",
    "            index -= 1\n",
    "        \n",
    "        if node and node != self.right and index == 0:\n",
    "            node.prev.next = node.next # update the previous node's next pointer\n",
    "            node.next.prev = node.prev # update the next node's previous pointer to skip over the deleted node\n",
    "            node.next = None # clear the deleted node's next pointer\n",
    "            node.prev = None # clear the deleted node's previous pointer\n",
    "\n",
    "\n",
    "    def print_list(self):\n",
    "        current_node = self.left\n",
    "        while current_node:\n",
    "            prev_node = current_node.prev.val if current_node.prev else None\n",
    "            next_node = current_node.next.val if current_node.next else None\n",
    "            print(f\"Prev: {prev_node} | Val: {current_node.val} | Next: {next_node}\")\n",
    "            current_node = current_node.next"
   ]
  },
  {
   "cell_type": "code",
   "execution_count": 37,
   "id": "2f34ce82",
   "metadata": {},
   "outputs": [
    {
     "data": {
      "text/plain": [
       "<__main__.DoublyLinkedList at 0x200eca412b0>"
      ]
     },
     "execution_count": 37,
     "metadata": {},
     "output_type": "execute_result"
    }
   ],
   "source": [
    "my_list_1 = DoublyLinkedList()\n",
    "my_list_1"
   ]
  },
  {
   "cell_type": "code",
   "execution_count": 38,
   "id": "a11d590f",
   "metadata": {},
   "outputs": [],
   "source": [
    "my_list_1.addAtHead(3)\n",
    "my_list_1.addAtTail(7)\n",
    "my_list_1.addAtHead(2)\n",
    "my_list_1.addAtTail(1)\n",
    "my_list_1.addAtHead(13)\n",
    "my_list_1.addAtTail(17)"
   ]
  },
  {
   "cell_type": "code",
   "execution_count": 39,
   "id": "1c0cc586",
   "metadata": {},
   "outputs": [
    {
     "name": "stdout",
     "output_type": "stream",
     "text": [
      "Prev: None | Val: 0 | Next: 13\n",
      "Prev: 0 | Val: 13 | Next: 2\n",
      "Prev: 13 | Val: 2 | Next: 3\n",
      "Prev: 2 | Val: 3 | Next: 7\n",
      "Prev: 3 | Val: 7 | Next: 1\n",
      "Prev: 7 | Val: 1 | Next: 17\n",
      "Prev: 1 | Val: 17 | Next: 0\n",
      "Prev: 17 | Val: 0 | Next: None\n"
     ]
    }
   ],
   "source": [
    "my_list_1.print_list()"
   ]
  },
  {
   "cell_type": "code",
   "execution_count": null,
   "id": "c8e9c1d0",
   "metadata": {},
   "outputs": [],
   "source": []
  }
 ],
 "metadata": {
  "kernelspec": {
   "display_name": "Python 3 (ipykernel)",
   "language": "python",
   "name": "python3"
  },
  "language_info": {
   "codemirror_mode": {
    "name": "ipython",
    "version": 3
   },
   "file_extension": ".py",
   "mimetype": "text/x-python",
   "name": "python",
   "nbconvert_exporter": "python",
   "pygments_lexer": "ipython3",
   "version": "3.7.3"
  }
 },
 "nbformat": 4,
 "nbformat_minor": 5
}
